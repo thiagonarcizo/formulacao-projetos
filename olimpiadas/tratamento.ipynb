{
 "cells": [
  {
   "cell_type": "code",
   "execution_count": 67,
   "metadata": {},
   "outputs": [],
   "source": [
    "import pandas as pd\n",
    "import numpy as np\n",
    "import matplotlib.pyplot as plt\n",
    "import seaborn as sns"
   ]
  },
  {
   "cell_type": "code",
   "execution_count": 68,
   "metadata": {},
   "outputs": [
    {
     "name": "stderr",
     "output_type": "stream",
     "text": [
      "/tmp/ipykernel_23356/407779106.py:17: FutureWarning: Downcasting behavior in `replace` is deprecated and will be removed in a future version. To retain the old behavior, explicitly call `result.infer_objects(copy=False)`. To opt-in to the future behavior, set `pd.set_option('future.no_silent_downcasting', True)`\n",
      "  df['Medal'] = df['Medal'].replace({'Gold': 1, 'Silver': 2, 'Bronze': 3, np.nan: np.nan})\n"
     ]
    },
    {
     "data": {
      "text/html": [
       "<div>\n",
       "<style scoped>\n",
       "    .dataframe tbody tr th:only-of-type {\n",
       "        vertical-align: middle;\n",
       "    }\n",
       "\n",
       "    .dataframe tbody tr th {\n",
       "        vertical-align: top;\n",
       "    }\n",
       "\n",
       "    .dataframe thead th {\n",
       "        text-align: right;\n",
       "    }\n",
       "</style>\n",
       "<table border=\"1\" class=\"dataframe\">\n",
       "  <thead>\n",
       "    <tr style=\"text-align: right;\">\n",
       "      <th></th>\n",
       "      <th>Name</th>\n",
       "      <th>Sex</th>\n",
       "      <th>Age</th>\n",
       "      <th>Team</th>\n",
       "      <th>NOC</th>\n",
       "      <th>Games</th>\n",
       "      <th>Year</th>\n",
       "      <th>City</th>\n",
       "      <th>Sport</th>\n",
       "      <th>Event</th>\n",
       "      <th>Medal</th>\n",
       "      <th>NNOC</th>\n",
       "    </tr>\n",
       "  </thead>\n",
       "  <tbody>\n",
       "    <tr>\n",
       "      <th>0</th>\n",
       "      <td>Paul Neumann (-Newman)</td>\n",
       "      <td>M</td>\n",
       "      <td>20.0</td>\n",
       "      <td>Austria</td>\n",
       "      <td>AUT</td>\n",
       "      <td>1896 Summer</td>\n",
       "      <td>1896</td>\n",
       "      <td>Athina</td>\n",
       "      <td>Swimming</td>\n",
       "      <td>Swimming Men's 500 metres Freestyle</td>\n",
       "      <td>1.0</td>\n",
       "      <td>13</td>\n",
       "    </tr>\n",
       "    <tr>\n",
       "      <th>1</th>\n",
       "      <td>Friedrich Adolf \"Fritz\" Traun</td>\n",
       "      <td>M</td>\n",
       "      <td>20.0</td>\n",
       "      <td>Great Britain/Germany</td>\n",
       "      <td>GER</td>\n",
       "      <td>1896 Summer</td>\n",
       "      <td>1896</td>\n",
       "      <td>Athina</td>\n",
       "      <td>Tennis</td>\n",
       "      <td>Tennis Men's Doubles</td>\n",
       "      <td>1.0</td>\n",
       "      <td>80</td>\n",
       "    </tr>\n",
       "    <tr>\n",
       "      <th>2</th>\n",
       "      <td>Friedrich Adolf \"Fritz\" Traun</td>\n",
       "      <td>M</td>\n",
       "      <td>20.0</td>\n",
       "      <td>Germany</td>\n",
       "      <td>GER</td>\n",
       "      <td>1896 Summer</td>\n",
       "      <td>1896</td>\n",
       "      <td>Athina</td>\n",
       "      <td>Athletics</td>\n",
       "      <td>Athletics Men's 100 metres</td>\n",
       "      <td>NaN</td>\n",
       "      <td>80</td>\n",
       "    </tr>\n",
       "    <tr>\n",
       "      <th>3</th>\n",
       "      <td>Friedrich Adolf \"Fritz\" Traun</td>\n",
       "      <td>M</td>\n",
       "      <td>20.0</td>\n",
       "      <td>Germany</td>\n",
       "      <td>GER</td>\n",
       "      <td>1896 Summer</td>\n",
       "      <td>1896</td>\n",
       "      <td>Athina</td>\n",
       "      <td>Athletics</td>\n",
       "      <td>Athletics Men's 800 metres</td>\n",
       "      <td>NaN</td>\n",
       "      <td>80</td>\n",
       "    </tr>\n",
       "    <tr>\n",
       "      <th>4</th>\n",
       "      <td>Efstathios Khorafas</td>\n",
       "      <td>M</td>\n",
       "      <td>NaN</td>\n",
       "      <td>Greece</td>\n",
       "      <td>GRE</td>\n",
       "      <td>1896 Summer</td>\n",
       "      <td>1896</td>\n",
       "      <td>Athina</td>\n",
       "      <td>Swimming</td>\n",
       "      <td>Swimming Men's 100 metres Freestyle</td>\n",
       "      <td>NaN</td>\n",
       "      <td>82</td>\n",
       "    </tr>\n",
       "  </tbody>\n",
       "</table>\n",
       "</div>"
      ],
      "text/plain": [
       "                            Name Sex   Age                   Team  NOC  \\\n",
       "0         Paul Neumann (-Newman)   M  20.0                Austria  AUT   \n",
       "1  Friedrich Adolf \"Fritz\" Traun   M  20.0  Great Britain/Germany  GER   \n",
       "2  Friedrich Adolf \"Fritz\" Traun   M  20.0                Germany  GER   \n",
       "3  Friedrich Adolf \"Fritz\" Traun   M  20.0                Germany  GER   \n",
       "4            Efstathios Khorafas   M   NaN                 Greece  GRE   \n",
       "\n",
       "         Games  Year    City      Sport                                Event  \\\n",
       "0  1896 Summer  1896  Athina   Swimming  Swimming Men's 500 metres Freestyle   \n",
       "1  1896 Summer  1896  Athina     Tennis                 Tennis Men's Doubles   \n",
       "2  1896 Summer  1896  Athina  Athletics           Athletics Men's 100 metres   \n",
       "3  1896 Summer  1896  Athina  Athletics           Athletics Men's 800 metres   \n",
       "4  1896 Summer  1896  Athina   Swimming  Swimming Men's 100 metres Freestyle   \n",
       "\n",
       "   Medal  NNOC  \n",
       "0    1.0    13  \n",
       "1    1.0    80  \n",
       "2    NaN    80  \n",
       "3    NaN    80  \n",
       "4    NaN    82  "
      ]
     },
     "execution_count": 68,
     "metadata": {},
     "output_type": "execute_result"
    }
   ],
   "source": [
    "#lendo o dataset\n",
    "df = pd.read_csv('data/stats.csv')\n",
    "\n",
    "#define a ordem do dataset como sendo crescente de acordo com o ano\n",
    "df = df.sort_values(by='Year')\n",
    "\n",
    "#reseta os índices do dataset e deleta a coluna de índices antigos\n",
    "df = df.reset_index(drop=True)\n",
    "\n",
    "#deleta a segunda coluna\n",
    "df = df.drop(df.columns[0], axis=1)\n",
    "\n",
    "#deleta a coluna \"Season\", porque todas são iguais\n",
    "df = df.drop('Season', axis=1)\n",
    "\n",
    "#traduzindo os nomes das medalhas para inteiros\n",
    "df['Medal'] = df['Medal'].replace({'Gold': 1, 'Silver': 2, 'Bronze': 3, np.nan: np.nan})\n",
    "\n",
    "#criando uma coluna de índice de país (com base na coluna \"NOC\")\n",
    "df['NNOC'] = pd.Categorical(df['NOC'])\n",
    "df['NNOC'] = df['NNOC'].cat.codes\n",
    "\n",
    "df.head()"
   ]
  },
  {
   "cell_type": "code",
   "execution_count": 69,
   "metadata": {},
   "outputs": [
    {
     "data": {
      "text/html": [
       "<div>\n",
       "<style scoped>\n",
       "    .dataframe tbody tr th:only-of-type {\n",
       "        vertical-align: middle;\n",
       "    }\n",
       "\n",
       "    .dataframe tbody tr th {\n",
       "        vertical-align: top;\n",
       "    }\n",
       "\n",
       "    .dataframe thead th {\n",
       "        text-align: right;\n",
       "    }\n",
       "</style>\n",
       "<table border=\"1\" class=\"dataframe\">\n",
       "  <thead>\n",
       "    <tr style=\"text-align: right;\">\n",
       "      <th></th>\n",
       "      <th>NOC</th>\n",
       "      <th>NNOC</th>\n",
       "    </tr>\n",
       "  </thead>\n",
       "  <tbody>\n",
       "    <tr>\n",
       "      <th>0</th>\n",
       "      <td>AFG</td>\n",
       "      <td>0</td>\n",
       "    </tr>\n",
       "    <tr>\n",
       "      <th>1</th>\n",
       "      <td>AHO</td>\n",
       "      <td>1</td>\n",
       "    </tr>\n",
       "    <tr>\n",
       "      <th>2</th>\n",
       "      <td>ALB</td>\n",
       "      <td>2</td>\n",
       "    </tr>\n",
       "    <tr>\n",
       "      <th>3</th>\n",
       "      <td>ALG</td>\n",
       "      <td>3</td>\n",
       "    </tr>\n",
       "    <tr>\n",
       "      <th>4</th>\n",
       "      <td>AND</td>\n",
       "      <td>4</td>\n",
       "    </tr>\n",
       "  </tbody>\n",
       "</table>\n",
       "</div>"
      ],
      "text/plain": [
       "   NOC  NNOC\n",
       "0  AFG     0\n",
       "1  AHO     1\n",
       "2  ALB     2\n",
       "3  ALG     3\n",
       "4  AND     4"
      ]
     },
     "execution_count": 69,
     "metadata": {},
     "output_type": "execute_result"
    }
   ],
   "source": [
    "#mostrando uma tabela com a tradução de o que significa cada NNOC com base no NOC\n",
    "NOC = df[['NOC', 'NNOC']]\n",
    "NOC = NOC.drop_duplicates()\n",
    "NOC = NOC.sort_values(by='NNOC')\n",
    "NOC = NOC.reset_index(drop=True)\n",
    "NOC.head()"
   ]
  },
  {
   "cell_type": "code",
   "execution_count": 70,
   "metadata": {},
   "outputs": [
    {
     "name": "stdout",
     "output_type": "stream",
     "text": [
      "<class 'pandas.core.frame.DataFrame'>\n",
      "RangeIndex: 237673 entries, 0 to 237672\n",
      "Data columns (total 12 columns):\n",
      " #   Column  Non-Null Count   Dtype  \n",
      "---  ------  --------------   -----  \n",
      " 0   Name    237673 non-null  object \n",
      " 1   Sex     237673 non-null  object \n",
      " 2   Age     228484 non-null  float64\n",
      " 3   Team    237673 non-null  object \n",
      " 4   NOC     237673 non-null  object \n",
      " 5   Games   237673 non-null  object \n",
      " 6   Year    237673 non-null  int64  \n",
      " 7   City    237673 non-null  object \n",
      " 8   Sport   237673 non-null  object \n",
      " 9   Event   237673 non-null  object \n",
      " 10  Medal   36537 non-null   float64\n",
      " 11  NNOC    237673 non-null  int16  \n",
      "dtypes: float64(2), int16(1), int64(1), object(8)\n",
      "memory usage: 20.4+ MB\n"
     ]
    }
   ],
   "source": [
    "df.info()"
   ]
  },
  {
   "cell_type": "code",
   "execution_count": 71,
   "metadata": {},
   "outputs": [
    {
     "data": {
      "image/png": "[encoded data removed]",
      "text/plain": [
       "<Figure size 1200x800 with 2 Axes>"
      ]
     },
     "metadata": {},
     "output_type": "display_data"
    }
   ],
   "source": [
    "#plotando o gráfico de correlação\n",
    "\n",
    "#filtrando o dataset apenas para valores numéricos\n",
    "dfn = df.select_dtypes(include=[np.number])\n",
    "\n",
    "corr = dfn.corr()\n",
    "plt.figure(figsize=(12,8))\n",
    "sns.heatmap(corr, annot=True, cmap='coolwarm')\n",
    "plt.title('Correlação entre as variáveis do dataset')\n",
    "plt.show()"
   ]
  },
  {
   "cell_type": "code",
   "execution_count": 159,
   "metadata": {},
   "outputs": [
    {
     "data": {
      "application/vnd.jupyter.widget-view+json": {
       "model_id": "80f58f62a1e848209a9167f9fad91ce2",
       "version_major": 2,
       "version_minor": 0
      },
      "text/plain": [
       "IntRangeSlider(value=(1896, 2020), continuous_update=False, description='Intervalo de ano:', max=2020, min=189…"
      ]
     },
     "metadata": {},
     "output_type": "display_data"
    },
    {
     "data": {
      "application/vnd.jupyter.widget-view+json": {
       "model_id": "72c44b60234449ea978642875dc383c2",
       "version_major": 2,
       "version_minor": 0
      },
      "text/plain": [
       "Dropdown(description='Número de países:', index=1, options=(5, 10, 15), value=10)"
      ]
     },
     "metadata": {},
     "output_type": "display_data"
    },
    {
     "data": {
      "application/vnd.jupyter.widget-view+json": {
       "model_id": "3859d4439d0044c795ecbc6e987f833c",
       "version_major": 2,
       "version_minor": 0
      },
      "text/plain": [
       "Output()"
      ]
     },
     "metadata": {},
     "output_type": "display_data"
    }
   ],
   "source": [
    "import ipywidgets as widgets\n",
    "from IPython.display import display\n",
    "\n",
    "#criando um slider para selecionar o intervalo de anos\n",
    "year_slider = widgets.IntRangeSlider(\n",
    "    value=[1896, 2020],\n",
    "    min=1896,\n",
    "    max=2020,\n",
    "    step=4,\n",
    "    description='Intervalo de ano:',\n",
    "    continuous_update=False\n",
    ")\n",
    "\n",
    "#criando um dropdown para selecionar a quantidade de países a serem mostrados\n",
    "top_countries_dropdown = widgets.Dropdown(\n",
    "    options=[5, 10, 15],\n",
    "    value=10,\n",
    "    description='Número de países:',\n",
    "    disabled=False,\n",
    ")\n",
    "\n",
    "#criando a função que irá atualizar o gráfico de acordo com os valores selecionados\n",
    "def update_plot(year_interval, top_countries):\n",
    "    filtered_df1 = df[(df['Year'] >= year_interval[0]) & (df['Year'] <= year_interval[1])]\n",
    "    filtered_df = filtered_df1.groupby('Team')['Medal'].count().nlargest(top_countries)\n",
    "    filtered_df = pd.DataFrame({'Team': filtered_df.index, 'Medal': filtered_df.values})\n",
    "\n",
    "    #adicionando no dataframe quantas das medalhas são de ouro, de prata e de bronze\n",
    "    gold = []\n",
    "    silver = []\n",
    "    bronze = []\n",
    "    for team in filtered_df['Team']:\n",
    "        gold.append(len(filtered_df1[(filtered_df1['Team'] == team) & (filtered_df1['Medal'] == 1)]))\n",
    "        silver.append(len(filtered_df1[(filtered_df1['Team'] == team) & (filtered_df1['Medal'] == 2)]))\n",
    "        bronze.append(len(filtered_df1[(filtered_df1['Team'] == team) & (filtered_df1['Medal'] == 3)]))\n",
    "    filtered_df['Gold'] = gold\n",
    "    filtered_df['Silver'] = silver\n",
    "    filtered_df['Bronze'] = bronze\n",
    "\n",
    "    #define os dados que serão plotados\n",
    "    medal_counts = filtered_df[['Gold', 'Silver', 'Bronze']]\n",
    "    countries = filtered_df['Team']\n",
    "\n",
    "    #largura da barra\n",
    "    bar_w = 0.7\n",
    "\n",
    "    #posição da barra\n",
    "    r = np.arange(len(countries))\n",
    "\n",
    "    #criando a ordem de plotagem\n",
    "    plt.figure(figsize=(14, 8))\n",
    "    plt.barh(r, medal_counts['Bronze'], color='brown', height=bar_w, edgecolor='black', label='Bronze')\n",
    "    plt.barh(r, medal_counts['Silver'], left=medal_counts['Bronze'], color='silver', height=bar_w, edgecolor='black', label='Silver')\n",
    "    plt.barh(r, medal_counts['Gold'], left=medal_counts['Bronze'] + medal_counts['Silver'], color='gold', height=bar_w, edgecolor='black', label='Gold')\n",
    "\n",
    "    #invertendo o eixo y (maior pro menor)\n",
    "    plt.gca().invert_yaxis()\n",
    "\n",
    "    #labels e título\n",
    "    plt.xlabel('Número de Medalhas')\n",
    "    plt.ylabel('Países')\n",
    "    plt.yticks(r, countries)\n",
    "    plt.title('Top ' + str(top_countries) + ' países com mais medalhas entre ' + str(year_interval[0]) + ' e ' + str(year_interval[1]))\n",
    "\n",
    "    #definindo as coordenadas da tabela\n",
    "    table_coords = [0.75, 0.3, 0.2, 0.4]\n",
    "\n",
    "    #criando uma tabela\n",
    "    table_data = [['País', 'Medalhas']] + [[country, medal_counts.loc[i].sum()] for i, country in enumerate(countries)]\n",
    "    table = plt.table(cellText=table_data, colLabels=None, cellLoc='center', loc='center', bbox=table_coords)\n",
    "\n",
    "    #formata a tabela\n",
    "    table.auto_set_font_size(False)\n",
    "    table.set_fontsize(10)\n",
    "    table.scale(1.5, 1.5)\n",
    "\n",
    "    #plotando\n",
    "    plt.legend(['Bronze', 'Prata', 'Ouro'])\n",
    "    plt.show()\n",
    "\n",
    "#criando o output\n",
    "output = widgets.interactive_output(update_plot, {'year_interval': year_slider, 'top_countries': top_countries_dropdown})\n",
    "\n",
    "#mostrando os widgets\n",
    "display(year_slider, top_countries_dropdown, output)"
   ]
  }
 ],
 "metadata": {
  "kernelspec": {
   "display_name": "Python 3",
   "language": "python",
   "name": "python3"
  },
  "language_info": {
   "codemirror_mode": {
    "name": "ipython",
    "version": 3
   },
   "file_extension": ".py",
   "mimetype": "text/x-python",
   "name": "python",
   "nbconvert_exporter": "python",
   "pygments_lexer": "ipython3",
   "version": "3.10.13"
  }
 },
 "nbformat": 4,
 "nbformat_minor": 2
}
